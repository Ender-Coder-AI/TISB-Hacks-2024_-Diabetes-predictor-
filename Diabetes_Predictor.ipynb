{
  "nbformat": 4,
  "nbformat_minor": 0,
  "metadata": {
    "colab": {
      "provenance": [],
      "authorship_tag": "ABX9TyO6mJeQYprKWF8POAbfJ2Lz",
      "include_colab_link": true
    },
    "kernelspec": {
      "name": "python3",
      "display_name": "Python 3"
    },
    "language_info": {
      "name": "python"
    }
  },
  "cells": [
    {
      "cell_type": "markdown",
      "metadata": {
        "id": "view-in-github",
        "colab_type": "text"
      },
      "source": [
        "<a href=\"https://colab.research.google.com/github/Ender-Coder-AI/TISB-Hacks-2024_-Diabetes-predictor-/blob/main/Diabetes_Predictor.ipynb\" target=\"_parent\"><img src=\"https://colab.research.google.com/assets/colab-badge.svg\" alt=\"Open In Colab\"/></a>"
      ]
    },
    {
      "cell_type": "code",
      "execution_count": null,
      "metadata": {
        "id": "53uZ6y5taLZr"
      },
      "outputs": [],
      "source": [
        "from __future__ import print_function\n",
        "import pickle\n",
        "import pandas as pd\n",
        "import numpy as np\n",
        "import matplotlib.pyplot as plt\n",
        "import seaborn as sns\n",
        "from sklearn.metrics import accuracy_score, classification_report\n",
        "from sklearn import metrics\n",
        "from sklearn import tree\n",
        "import warnings\n",
        "from sklearn.model_selection import train_test_split\n",
        "from sklearn.tree import DecisionTreeClassifier\n",
        "from sklearn.naive_bayes import GaussianNB\n",
        "from sklearn.svm import SVC\n",
        "from sklearn.linear_model import LogisticRegression\n",
        "from sklearn.ensemble import RandomForestClassifier\n",
        "from sklearn.model_selection import cross_val_score\n",
        "from sklearn.preprocessing import LabelEncoder\n",
        "from sklearn.preprocessing import OneHotEncoder\n",
        "from scipy.sparse import csr_matrix"
      ]
    },
    {
      "cell_type": "code",
      "source": [
        "PATH = 'Main_Diabeties_predictor.csv'\n",
        "df = pd.read_csv(PATH)"
      ],
      "metadata": {
        "id": "6rFYOXCMap5W"
      },
      "execution_count": null,
      "outputs": []
    },
    {
      "cell_type": "code",
      "source": [
        "print(df.columns)"
      ],
      "metadata": {
        "colab": {
          "base_uri": "https://localhost:8080/"
        },
        "id": "_7oVJgcMeCgx",
        "outputId": "3be7fa51-d4cd-490c-de6a-604528ac5e50"
      },
      "execution_count": null,
      "outputs": [
        {
          "output_type": "stream",
          "name": "stdout",
          "text": [
            "Index(['gender', 'age', 'hypertension', 'heart_disease', 'smoking_history',\n",
            "       'bmi', 'HbA1c_level', 'blood_glucose_level', 'diabetes'],\n",
            "      dtype='object')\n"
          ]
        }
      ]
    },
    {
      "cell_type": "code",
      "source": [
        "features = df[['gender', 'age', 'hypertension', 'heart_disease', 'smoking_history', 'bmi', 'HbA1c_level', 'blood_glucose_level']]\n",
        "target = df[['diabetes']]"
      ],
      "metadata": {
        "id": "dd0DQ5U5eMOS"
      },
      "execution_count": null,
      "outputs": []
    },
    {
      "cell_type": "code",
      "source": [
        "Xtrain, Xtest, Ytrain, Ytest = train_test_split(features,target,test_size = 0.20,random_state =74)\n",
        "\n",
        "Xtrain_un = Xtrain[['age', 'hypertension', 'heart_disease', 'bmi', 'HbA1c_level', 'blood_glucose_level']]\n",
        "Xtest_un = Xtest[['age', 'hypertension', 'heart_disease', 'bmi', 'HbA1c_level', 'blood_glucose_level']]\n",
        "\n",
        "Ytrain = pd.DataFrame(Ytrain)\n",
        "encoder = OneHotEncoder(sparse_output=True)\n",
        "\n",
        "encoded_Xtrain = encoder.fit_transform(Xtrain[['gender', 'smoking_history']])\n",
        "encoded_columns = encoder.get_feature_names_out(['gender', 'smoking_history'])\n",
        "encoded_Xtrain_df = pd.DataFrame(encoded_Xtrain.toarray(), columns=encoded_columns)\n",
        "Xtrain_un.reset_index(inplace=True, drop=True)\n",
        "print(Xtrain_un.index)\n",
        "final_Xtrain_df = pd.concat([Xtrain_un, encoded_Xtrain_df], axis=1)\n",
        "encoded_Xtest = encoder.fit_transform(Xtest[['gender', 'smoking_history']])\n",
        "encoded_columns = encoder.get_feature_names_out(['gender', 'smoking_history'])\n",
        "encoded_Xtest_df = pd.DataFrame(encoded_Xtest.toarray(), columns=encoded_columns)\n",
        "Xtest_un.reset_index(inplace=True, drop=True)\n",
        "final_Xtest_df = pd.concat([Xtest_un, encoded_Xtest_df], axis=1)\n",
        "print(\"3.\", final_Xtrain_df.shape)\n",
        "print(final_Xtest_df.shape)\n"
      ],
      "metadata": {
        "id": "RH9yBFg-e_nJ",
        "colab": {
          "base_uri": "https://localhost:8080/"
        },
        "outputId": "81de274d-0992-4616-a063-b4d10d7aecc6"
      },
      "execution_count": null,
      "outputs": [
        {
          "output_type": "stream",
          "name": "stdout",
          "text": [
            "RangeIndex(start=0, stop=80000, step=1)\n",
            "3. (80000, 15)\n",
            "(20000, 15)\n"
          ]
        }
      ]
    },
    {
      "cell_type": "code",
      "source": [
        "Ytrain.reset_index(inplace=True, drop=True)\n",
        "Ytest.reset_index(inplace=True, drop=True)"
      ],
      "metadata": {
        "id": "IEDWHqQfUS6q"
      },
      "execution_count": null,
      "outputs": []
    },
    {
      "cell_type": "code",
      "source": [
        "final_Xtest_df.to_csv('Xtest_final.csv')\n",
        "Ytest.to_csv('Ytest_final.csv')"
      ],
      "metadata": {
        "id": "TImXQ9JCT1jF"
      },
      "execution_count": null,
      "outputs": []
    },
    {
      "cell_type": "code",
      "source": [
        "acc = []\n",
        "model = []"
      ],
      "metadata": {
        "id": "DYkL1VhPCuj_"
      },
      "execution_count": null,
      "outputs": []
    },
    {
      "cell_type": "code",
      "source": [
        "LogReg = LogisticRegression(random_state =2, max_iter=500)\n",
        "\n",
        "LogReg.fit(final_Xtrain_df, Ytrain)\n",
        "\n",
        "predicted_values = LogReg.predict(final_Xtest_df)\n",
        "\n",
        "x = metrics.accuracy_score(Ytest, predicted_values)\n",
        "acc.append(x)\n",
        "model.append('Logistic Regression')\n",
        "print(\"Logistic Regression's Accuracy is: \", x)\n",
        "\n",
        "print(classification_report(Ytest,predicted_values))"
      ],
      "metadata": {
        "colab": {
          "base_uri": "https://localhost:8080/"
        },
        "id": "4g0sf0g8gXjN",
        "outputId": "80f5e203-feaf-43a4-898d-837e6d4ac64b"
      },
      "execution_count": null,
      "outputs": [
        {
          "output_type": "stream",
          "name": "stderr",
          "text": [
            "/usr/local/lib/python3.10/dist-packages/sklearn/utils/validation.py:1143: DataConversionWarning: A column-vector y was passed when a 1d array was expected. Please change the shape of y to (n_samples, ), for example using ravel().\n",
            "  y = column_or_1d(y, warn=True)\n",
            "/usr/local/lib/python3.10/dist-packages/sklearn/linear_model/_logistic.py:458: ConvergenceWarning: lbfgs failed to converge (status=1):\n",
            "STOP: TOTAL NO. of ITERATIONS REACHED LIMIT.\n",
            "\n",
            "Increase the number of iterations (max_iter) or scale the data as shown in:\n",
            "    https://scikit-learn.org/stable/modules/preprocessing.html\n",
            "Please also refer to the documentation for alternative solver options:\n",
            "    https://scikit-learn.org/stable/modules/linear_model.html#logistic-regression\n",
            "  n_iter_i = _check_optimize_result(\n"
          ]
        },
        {
          "output_type": "stream",
          "name": "stdout",
          "text": [
            "Logistic Regression's Accuracy is:  0.9599\n",
            "              precision    recall  f1-score   support\n",
            "\n",
            "           0       0.97      0.99      0.98     18254\n",
            "           1       0.87      0.63      0.73      1746\n",
            "\n",
            "    accuracy                           0.96     20000\n",
            "   macro avg       0.92      0.81      0.86     20000\n",
            "weighted avg       0.96      0.96      0.96     20000\n",
            "\n"
          ]
        }
      ]
    },
    {
      "cell_type": "code",
      "source": [
        "LR_pkl_filename = 'LogisticRegression.pkl'\n",
        "LR_Model_pkl = open(LR_pkl_filename, 'wb')\n",
        "pickle.dump(LogReg, LR_Model_pkl)\n",
        "LR_Model_pkl.close()"
      ],
      "metadata": {
        "id": "WJn9jlQvjHXK"
      },
      "execution_count": null,
      "outputs": []
    },
    {
      "cell_type": "code",
      "source": [
        "   # enter values in the order \"'age', 'hypertension', 'heart_disease', 'bmi', 'HbA1c_level',\n",
        "    #   'blood_glucose_level', 'gender_Female', 'gender_Male', 'gender_Other',\n",
        "     #  'smoking_history_No Info', 'smoking_history_current',\n",
        "      # 'smoking_history_ever', 'smoking_history_former',\n",
        "       #'smoking_history_never', 'smoking_history_not current'\n",
        "\n",
        "#data = final_Xtest_df.iloc[24].values\n",
        "#data = np.array([[46.0, 0, 0, 40.31, 6.5, 155, 1, 0, 0, 0, 0, 0, 0, 1, 0]])\n",
        "two_d_data = np.reshape(data, (1, -1))\n",
        "prediction = LogReg.predict(two_d_data)\n",
        "print(prediction)\n"
      ],
      "metadata": {
        "colab": {
          "base_uri": "https://localhost:8080/"
        },
        "id": "IXmH5NaXjVyV",
        "outputId": "7b178693-09ea-4629-d408-58d1c3cfeb9f"
      },
      "execution_count": null,
      "outputs": [
        {
          "output_type": "stream",
          "name": "stdout",
          "text": [
            "[0]\n"
          ]
        },
        {
          "output_type": "stream",
          "name": "stderr",
          "text": [
            "/usr/local/lib/python3.10/dist-packages/sklearn/base.py:439: UserWarning: X does not have valid feature names, but LogisticRegression was fitted with feature names\n",
            "  warnings.warn(\n"
          ]
        }
      ]
    }
  ]
}